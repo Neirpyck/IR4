{
 "cells": [
  {
   "cell_type": "code",
   "execution_count": 62,
   "metadata": {},
   "outputs": [
    {
     "data": {
      "text/plain": [
       "Index(['Unix Timestamp', 'Date', 'Symbol', 'Open', 'High', 'Low', 'Close',\n",
       "       'Volume'],\n",
       "      dtype='object')"
      ]
     },
     "execution_count": 62,
     "metadata": {},
     "output_type": "execute_result"
    }
   ],
   "source": [
    "import pandas as pd\n",
    "\n",
    "#import data\n",
    "crypto_file_path = '~/Downloads/all.csv'\n",
    "crypto_data = pd.read_csv(crypto_file_path,sep=',', error_bad_lines=False, index_col=False, dtype='unicode')\n",
    "crypto_data.columns"
   ]
  },
  {
   "cell_type": "code",
   "execution_count": 63,
   "metadata": {},
   "outputs": [
    {
     "data": {
      "text/html": [
       "<div>\n",
       "<style scoped>\n",
       "    .dataframe tbody tr th:only-of-type {\n",
       "        vertical-align: middle;\n",
       "    }\n",
       "\n",
       "    .dataframe tbody tr th {\n",
       "        vertical-align: top;\n",
       "    }\n",
       "\n",
       "    .dataframe thead th {\n",
       "        text-align: right;\n",
       "    }\n",
       "</style>\n",
       "<table border=\"1\" class=\"dataframe\">\n",
       "  <thead>\n",
       "    <tr style=\"text-align: right;\">\n",
       "      <th></th>\n",
       "      <th>Unix Timestamp</th>\n",
       "      <th>Date</th>\n",
       "      <th>Symbol</th>\n",
       "      <th>Open</th>\n",
       "      <th>High</th>\n",
       "      <th>Low</th>\n",
       "      <th>Close</th>\n",
       "      <th>Volume</th>\n",
       "    </tr>\n",
       "  </thead>\n",
       "  <tbody>\n",
       "    <tr>\n",
       "      <th>0</th>\n",
       "      <td>1605571320000</td>\n",
       "      <td>2020-11-17 00:02:00</td>\n",
       "      <td>BTCUSD</td>\n",
       "      <td>16715.34</td>\n",
       "      <td>16715.34</td>\n",
       "      <td>16714.7</td>\n",
       "      <td>16714.7</td>\n",
       "      <td>0.01558624</td>\n",
       "    </tr>\n",
       "    <tr>\n",
       "      <th>1</th>\n",
       "      <td>1605571260000</td>\n",
       "      <td>2020-11-17 00:01:00</td>\n",
       "      <td>BTCUSD</td>\n",
       "      <td>16731.26</td>\n",
       "      <td>16731.26</td>\n",
       "      <td>16712.35</td>\n",
       "      <td>16715.34</td>\n",
       "      <td>0.05868701</td>\n",
       "    </tr>\n",
       "    <tr>\n",
       "      <th>2</th>\n",
       "      <td>1605571200000</td>\n",
       "      <td>2020-11-17 00:00:00</td>\n",
       "      <td>BTCUSD</td>\n",
       "      <td>16724.83</td>\n",
       "      <td>16736.79</td>\n",
       "      <td>16724.83</td>\n",
       "      <td>16731.26</td>\n",
       "      <td>0.20284979</td>\n",
       "    </tr>\n",
       "    <tr>\n",
       "      <th>3</th>\n",
       "      <td>1605571140000</td>\n",
       "      <td>2020-11-16 23:59:00</td>\n",
       "      <td>BTCUSD</td>\n",
       "      <td>16732.39</td>\n",
       "      <td>16732.39</td>\n",
       "      <td>16715.95</td>\n",
       "      <td>16724.83</td>\n",
       "      <td>0.7272733</td>\n",
       "    </tr>\n",
       "    <tr>\n",
       "      <th>4</th>\n",
       "      <td>1605571080000</td>\n",
       "      <td>2020-11-16 23:58:00</td>\n",
       "      <td>BTCUSD</td>\n",
       "      <td>16740.53</td>\n",
       "      <td>16740.53</td>\n",
       "      <td>16721.64</td>\n",
       "      <td>16732.39</td>\n",
       "      <td>2.31386403</td>\n",
       "    </tr>\n",
       "  </tbody>\n",
       "</table>\n",
       "</div>"
      ],
      "text/plain": [
       "  Unix Timestamp                 Date  ...     Close      Volume\n",
       "0  1605571320000  2020-11-17 00:02:00  ...   16714.7  0.01558624\n",
       "1  1605571260000  2020-11-17 00:01:00  ...  16715.34  0.05868701\n",
       "2  1605571200000  2020-11-17 00:00:00  ...  16731.26  0.20284979\n",
       "3  1605571140000  2020-11-16 23:59:00  ...  16724.83   0.7272733\n",
       "4  1605571080000  2020-11-16 23:58:00  ...  16732.39  2.31386403\n",
       "\n",
       "[5 rows x 8 columns]"
      ]
     },
     "execution_count": 63,
     "metadata": {},
     "output_type": "execute_result"
    }
   ],
   "source": [
    "crypto_data.head(5)"
   ]
  },
  {
   "cell_type": "code",
   "execution_count": 64,
   "metadata": {},
   "outputs": [],
   "source": [
    "#drop missing values\n",
    "crypto_data = crypto_data.dropna(axis=0)"
   ]
  },
  {
   "cell_type": "code",
   "execution_count": 65,
   "metadata": {},
   "outputs": [],
   "source": [
    "#select target\n",
    "y = crypto_data.High"
   ]
  },
  {
   "cell_type": "code",
   "execution_count": 73,
   "metadata": {},
   "outputs": [],
   "source": [
    "#select features\n",
    "crypto_features = ['Open','Low','Close','Volume']\n",
    "X = crypto_data[crypto_features]"
   ]
  },
  {
   "cell_type": "code",
   "execution_count": 74,
   "metadata": {},
   "outputs": [],
   "source": [
    "#aimes la vie avant qu'elle te mange"
   ]
  },
  {
   "cell_type": "code",
   "execution_count": 75,
   "metadata": {},
   "outputs": [
    {
     "data": {
      "text/html": [
       "<div>\n",
       "<style scoped>\n",
       "    .dataframe tbody tr th:only-of-type {\n",
       "        vertical-align: middle;\n",
       "    }\n",
       "\n",
       "    .dataframe tbody tr th {\n",
       "        vertical-align: top;\n",
       "    }\n",
       "\n",
       "    .dataframe thead th {\n",
       "        text-align: right;\n",
       "    }\n",
       "</style>\n",
       "<table border=\"1\" class=\"dataframe\">\n",
       "  <thead>\n",
       "    <tr style=\"text-align: right;\">\n",
       "      <th></th>\n",
       "      <th>Open</th>\n",
       "      <th>Low</th>\n",
       "      <th>Close</th>\n",
       "      <th>Volume</th>\n",
       "    </tr>\n",
       "  </thead>\n",
       "  <tbody>\n",
       "    <tr>\n",
       "      <th>count</th>\n",
       "      <td>1751121</td>\n",
       "      <td>1751121</td>\n",
       "      <td>1751121</td>\n",
       "      <td>1751121</td>\n",
       "    </tr>\n",
       "    <tr>\n",
       "      <th>unique</th>\n",
       "      <td>292559</td>\n",
       "      <td>275846</td>\n",
       "      <td>292563</td>\n",
       "      <td>665928</td>\n",
       "    </tr>\n",
       "    <tr>\n",
       "      <th>top</th>\n",
       "      <td>52.25</td>\n",
       "      <td>52.25</td>\n",
       "      <td>52.25</td>\n",
       "      <td>0.0</td>\n",
       "    </tr>\n",
       "    <tr>\n",
       "      <th>freq</th>\n",
       "      <td>1245</td>\n",
       "      <td>1246</td>\n",
       "      <td>1245</td>\n",
       "      <td>962995</td>\n",
       "    </tr>\n",
       "  </tbody>\n",
       "</table>\n",
       "</div>"
      ],
      "text/plain": [
       "           Open      Low    Close   Volume\n",
       "count   1751121  1751121  1751121  1751121\n",
       "unique   292559   275846   292563   665928\n",
       "top       52.25    52.25    52.25      0.0\n",
       "freq       1245     1246     1245   962995"
      ]
     },
     "execution_count": 75,
     "metadata": {},
     "output_type": "execute_result"
    }
   ],
   "source": [
    "#Checking the Data\n",
    "X.describe()"
   ]
  },
  {
   "cell_type": "code",
   "execution_count": 82,
   "metadata": {},
   "outputs": [
    {
     "data": {
      "text/html": [
       "<div>\n",
       "<style scoped>\n",
       "    .dataframe tbody tr th:only-of-type {\n",
       "        vertical-align: middle;\n",
       "    }\n",
       "\n",
       "    .dataframe tbody tr th {\n",
       "        vertical-align: top;\n",
       "    }\n",
       "\n",
       "    .dataframe thead th {\n",
       "        text-align: right;\n",
       "    }\n",
       "</style>\n",
       "<table border=\"1\" class=\"dataframe\">\n",
       "  <thead>\n",
       "    <tr style=\"text-align: right;\">\n",
       "      <th></th>\n",
       "      <th>Open</th>\n",
       "      <th>Low</th>\n",
       "      <th>Close</th>\n",
       "      <th>Volume</th>\n",
       "    </tr>\n",
       "  </thead>\n",
       "  <tbody>\n",
       "    <tr>\n",
       "      <th>0</th>\n",
       "      <td>16715.34</td>\n",
       "      <td>16714.7</td>\n",
       "      <td>16714.7</td>\n",
       "      <td>0.01558624</td>\n",
       "    </tr>\n",
       "    <tr>\n",
       "      <th>1</th>\n",
       "      <td>16731.26</td>\n",
       "      <td>16712.35</td>\n",
       "      <td>16715.34</td>\n",
       "      <td>0.05868701</td>\n",
       "    </tr>\n",
       "    <tr>\n",
       "      <th>2</th>\n",
       "      <td>16724.83</td>\n",
       "      <td>16724.83</td>\n",
       "      <td>16731.26</td>\n",
       "      <td>0.20284979</td>\n",
       "    </tr>\n",
       "    <tr>\n",
       "      <th>3</th>\n",
       "      <td>16732.39</td>\n",
       "      <td>16715.95</td>\n",
       "      <td>16724.83</td>\n",
       "      <td>0.7272733</td>\n",
       "    </tr>\n",
       "    <tr>\n",
       "      <th>4</th>\n",
       "      <td>16740.53</td>\n",
       "      <td>16721.64</td>\n",
       "      <td>16732.39</td>\n",
       "      <td>2.31386403</td>\n",
       "    </tr>\n",
       "  </tbody>\n",
       "</table>\n",
       "</div>"
      ],
      "text/plain": [
       "       Open       Low     Close      Volume\n",
       "0  16715.34   16714.7   16714.7  0.01558624\n",
       "1  16731.26  16712.35  16715.34  0.05868701\n",
       "2  16724.83  16724.83  16731.26  0.20284979\n",
       "3  16732.39  16715.95  16724.83   0.7272733\n",
       "4  16740.53  16721.64  16732.39  2.31386403"
      ]
     },
     "execution_count": 82,
     "metadata": {},
     "output_type": "execute_result"
    }
   ],
   "source": [
    "X.head(5)"
   ]
  },
  {
   "cell_type": "code",
   "execution_count": 85,
   "metadata": {},
   "outputs": [],
   "source": [
    "#spliting the Data\n",
    "from sklearn.model_selection import train_test_split\n",
    "train_X, val_X, train_y, val_y = train_test_split(X, y, random_state = 0)"
   ]
  },
  {
   "cell_type": "markdown",
   "metadata": {},
   "source": [
    "Building the Model\n",
    "\n",
    "1. Define model type\n",
    "2. Fit the Data\n",
    "3. Predict\n",
    "4. Evaluate"
   ]
  },
  {
   "cell_type": "code",
   "execution_count": 86,
   "metadata": {},
   "outputs": [
    {
     "data": {
      "text/plain": [
       "DecisionTreeRegressor(random_state=1)"
      ]
     },
     "execution_count": 86,
     "metadata": {},
     "output_type": "execute_result"
    }
   ],
   "source": [
    "from sklearn.tree import DecisionTreeRegressor\n",
    "\n",
    "#define the model\n",
    "crypto_model = DecisionTreeRegressor(random_state=1)\n",
    "\n",
    "#fit the data\n",
    "crypto_model.fit(train_X,train_y)"
   ]
  },
  {
   "cell_type": "code",
   "execution_count": 87,
   "metadata": {},
   "outputs": [
    {
     "name": "stdout",
     "output_type": "stream",
     "text": [
      "Making predictions for the following 5 inputs:\n",
      "           Open     Low   Close    Volume\n",
      "594484   302.35  302.21  302.21       0.4\n",
      "1062999   41.25   41.25   41.25       0.0\n",
      "1546193   54.59   54.59   54.59       0.0\n",
      "717451    195.4  195.21  195.24  9.625586\n",
      "796834   227.07  227.02  228.25  1.126787\n"
     ]
    }
   ],
   "source": [
    "print(\"Making predictions for the following 5 inputs:\")\n",
    "print(val_X.head())"
   ]
  },
  {
   "cell_type": "code",
   "execution_count": 88,
   "metadata": {},
   "outputs": [
    {
     "name": "stdout",
     "output_type": "stream",
     "text": [
      "The predictions are\n",
      "[302.24  41.25  54.59 195.4  228.25]\n"
     ]
    }
   ],
   "source": [
    "print(\"The predictions are\")\n",
    "print(crypto_model.predict(val_X.head()))"
   ]
  },
  {
   "cell_type": "code",
   "execution_count": 92,
   "metadata": {},
   "outputs": [
    {
     "name": "stdout",
     "output_type": "stream",
     "text": [
      "0.5773174981707528\n"
     ]
    }
   ],
   "source": [
    "from sklearn.metrics import mean_absolute_error\n",
    "#check error\n",
    "val_prediction = crypto_model.predict(val_X)\n",
    "val_mae = mean_absolute_error(val_y, val_prediction)\n",
    "print(val_mae)"
   ]
  },
  {
   "cell_type": "markdown",
   "metadata": {},
   "source": [
    "Overfitting: too much leaves -> capturing event specific to the dataset, less accurates precisions\n",
    "\n",
    "Underfitting: too few leaves -> failling to capture relevant patterns, less accurates precisions\n",
    "\n",
    "To solve this, pick the right amount of leaves"
   ]
  },
  {
   "cell_type": "code",
   "execution_count": 100,
   "metadata": {},
   "outputs": [],
   "source": [
    "#Define a function to test best max_leaf_node \n",
    "def get_mae(max_leaf_nodes, train_X, val_X, train_y, val_y):\n",
    "    \"\"\"\n",
    "    return mae depending of the max_leaf_node of a tree\n",
    "    \"\"\"\n",
    "    model = DecisionTreeRegressor(max_leaf_nodes=max_leaf_nodes, random_state=0)\n",
    "    model.fit(train_X, train_y)\n",
    "    preds_val = model.predict(val_X)\n",
    "    mae = mean_absolute_error(val_y, preds_val)\n",
    "    return mae"
   ]
  },
  {
   "cell_type": "code",
   "execution_count": 105,
   "metadata": {},
   "outputs": [
    {
     "name": "stdout",
     "output_type": "stream",
     "text": [
      "Max leaf node: 5 \t\t Mean absolute error: 197.7004714231277\n",
      "Max leaf node: 50 \t\t Mean absolute error: 19.905301232324337\n",
      "Max leaf node: 500 \t\t Mean absolute error: 2.5157343864642328\n",
      "Max leaf node: 5000 \t\t Mean absolute error: 0.8060303682612393\n",
      "Max leaf node: 50000 \t\t Mean absolute error: 0.6286487633918265\n",
      "Max leaf node: 500000 \t\t Mean absolute error: 0.5768674786404399\n"
     ]
    }
   ],
   "source": [
    "for max_leaf_nodes in [5, 50, 500, 5000,  50000, 500000]:\n",
    "    my_mae = get_mae(max_leaf_nodes, train_X, val_X, train_y, val_y)\n",
    "    print(f'Max leaf node: {max_leaf_nodes} \\t\\t Mean absolute error: {my_mae}')"
   ]
  },
  {
   "cell_type": "markdown",
   "metadata": {},
   "source": [
    "The best leaf node in this cas is 500000, but after that we can't see any real improvment\n",
    "\n",
    "The mae is 0.57687"
   ]
  },
  {
   "cell_type": "code",
   "execution_count": 106,
   "metadata": {},
   "outputs": [
    {
     "name": "stdout",
     "output_type": "stream",
     "text": [
      "0.46780425753654226\n"
     ]
    }
   ],
   "source": [
    "#As it can be a problem to find the best max_leaf_nodes, the RandomForestRegressor is a good alternative\n",
    "from sklearn.ensemble import RandomForestRegressor\n",
    "\n",
    "forest_model = RandomForestRegressor(random_state=1)\n",
    "forest_model.fit(train_X, train_y)\n",
    "crypto_preds = forest_model.predict(val_X)\n",
    "print(mean_absolute_error(val_y, crypto_preds))"
   ]
  },
  {
   "cell_type": "markdown",
   "metadata": {},
   "source": [
    "The mae is 0.46780"
   ]
  }
 ],
 "metadata": {
  "kernelspec": {
   "display_name": "Python 3",
   "language": "python",
   "name": "python3"
  },
  "language_info": {
   "codemirror_mode": {
    "name": "ipython",
    "version": 3
   },
   "file_extension": ".py",
   "mimetype": "text/x-python",
   "name": "python",
   "nbconvert_exporter": "python",
   "pygments_lexer": "ipython3",
   "version": "3.8.6"
  }
 },
 "nbformat": 4,
 "nbformat_minor": 4
}
