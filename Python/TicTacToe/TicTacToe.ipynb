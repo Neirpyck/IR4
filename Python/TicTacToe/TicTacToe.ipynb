{
 "metadata": {
  "language_info": {
   "codemirror_mode": {
    "name": "ipython",
    "version": 3
   },
   "file_extension": ".py",
   "mimetype": "text/x-python",
   "name": "python",
   "nbconvert_exporter": "python",
   "pygments_lexer": "ipython3",
   "version": "3.9.1"
  },
  "orig_nbformat": 2,
  "kernelspec": {
   "name": "python391jvsc74a57bd0614fa10081428aac9babb4ca98ff37033d8cdd4a65edf094363152a274016d55",
   "display_name": "Python 3.9.1 64-bit ('base': conda)"
  },
  "metadata": {
   "interpreter": {
    "hash": "614fa10081428aac9babb4ca98ff37033d8cdd4a65edf094363152a274016d55"
   }
  }
 },
 "nbformat": 4,
 "nbformat_minor": 2,
 "cells": [
  {
   "cell_type": "code",
   "execution_count": 22,
   "metadata": {},
   "outputs": [],
   "source": [
    "grid = [[' ' for _ in range(3)] for _ in range(3)]\n",
    "\n",
    "\n",
    "def print_grid():\n",
    "    print(f'{grid[0][0]}  |  {grid[0][1]}  |  {grid[0][2]}')\n",
    "    print('______________')\n",
    "    print(f'{grid[1][0]}  |  {grid[1][1]}  |  {grid[1][2]}')\n",
    "    print('______________')\n",
    "    print(f'{grid[2][0]}  |  {grid[2][1]}  |  {grid[2][2]}')"
   ]
  },
  {
   "cell_type": "code",
   "execution_count": 23,
   "metadata": {},
   "outputs": [
    {
     "output_type": "stream",
     "name": "stdout",
     "text": [
      "   |     |   \n______________\n   |     |   \n______________\n   |     |   \n"
     ]
    }
   ],
   "source": [
    "print_grid()"
   ]
  },
  {
   "cell_type": "code",
   "execution_count": 24,
   "metadata": {},
   "outputs": [],
   "source": [
    "def put_in_grid(symbol, x, y):\n",
    "    grid[x][y] = symbol"
   ]
  },
  {
   "cell_type": "code",
   "execution_count": 31,
   "metadata": {},
   "outputs": [],
   "source": [
    "def turn(player):\n",
    "    while True:\n",
    "        try:\n",
    "            print(\"Player \", player, \" turn. Enter x : \\n\", end=\"\")\n",
    "            x = int(input()) \n",
    "        except ValueError:\n",
    "            print(\"Wrong Input!!! Try Again\\n\")\n",
    "            continue\n",
    "\n",
    "            # Sanity check for MOVE inout\n",
    "        if x < 0 or x > 3:\n",
    "            print(\"Wrong Input!!! Try Again\\n\")\n",
    "            continue\n",
    "        else:\n",
    "            break\n",
    "        \n",
    "    while True:\n",
    "        try:\n",
    "            print(\"Player \", player, \" turn. Enter y : \\n\", end=\"\")\n",
    "            y = int(input()) \n",
    "        except ValueError:\n",
    "            print(\"Wrong Input!!! Try Again\\n\")\n",
    "            continue\n",
    "\n",
    "            # Sanity check for MOVE inout\n",
    "        if y < 0 or y > 3:\n",
    "            print(\"Wrong Input!!! Try Again\\n\")\n",
    "            continue\n",
    "        else:\n",
    "            if grid[x][y] == ' ': \n",
    "                return x, y\n",
    "            else:\n",
    "                print('Box not empyt, try again')\n",
    "                turn(player)\n",
    "\n"
   ]
  },
  {
   "cell_type": "code",
   "execution_count": 32,
   "metadata": {},
   "outputs": [
    {
     "output_type": "stream",
     "name": "stdout",
     "text": [
      "X  |     |   \n",
      "______________\n",
      "   |     |   \n",
      "______________\n",
      "   |     |   \n",
      "Player  O  turn. Enter x : \n",
      "Player  O  turn. Enter y : \n",
      "Box not empyt, try again\n",
      "Player  O  turn. Enter x : \n",
      "Player  O  turn. Enter y : \n",
      "Box not empyt, try again\n",
      "Player  O  turn. Enter x : \n",
      "Player  O  turn. Enter y : \n",
      "Player  O  turn. Enter y : \n",
      "Box not empyt, try again\n",
      "Player  O  turn. Enter x : \n",
      "Player  O  turn. Enter y : \n",
      "Player  O  turn. Enter y : \n",
      "Player  O  turn. Enter y : \n"
     ]
    }
   ],
   "source": [
    "for i in range(9):\n",
    "    print_grid()\n",
    "    if i % 2 :\n",
    "        current_player = 'X'\n",
    "    else:\n",
    "        current_player = 'O'\n",
    "    \n",
    "    x, y = turn(current_player)\n",
    "    break\n",
    "    put_in_grid(current_player, x, y)\n"
   ]
  },
  {
   "cell_type": "code",
   "execution_count": 57,
   "metadata": {},
   "outputs": [
    {
     "output_type": "stream",
     "name": "stdout",
     "text": [
      "[3, 2, 1]\n[1, 2, 3]\n"
     ]
    }
   ],
   "source": [
    "grid = [[1, 2, 3],[1, 2, 3],[1, 2, 3]]\n",
    "diag = []\n",
    "\n",
    "for i in range(len(grid))[::-1]:\n",
    "    diag.append(grid[i][i])\n",
    "\n",
    "print(diag)\n",
    "diag = []\n",
    "\n",
    "\n",
    "for i in range(len(grid)):\n",
    "    diag.append(grid[i][i])\n",
    "\n",
    "print(diag)\n"
   ]
  }
 ]
}